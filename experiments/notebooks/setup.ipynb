{
 "cells": [
  {
   "cell_type": "code",
   "execution_count": null,
   "id": "fa2e5e36",
   "metadata": {},
   "outputs": [],
   "source": [
    "import sys\n",
    "import pandas as pd\n",
    "from IPython import get_ipython"
   ]
  },
  {
   "cell_type": "code",
   "execution_count": null,
   "id": "03ac58a7",
   "metadata": {},
   "outputs": [],
   "source": [
    "ipython = get_ipython()"
   ]
  },
  {
   "cell_type": "code",
   "execution_count": null,
   "id": "7b052708",
   "metadata": {},
   "outputs": [],
   "source": [
    "# Append the root directory to Python path,\n",
    "# this allows you to store notebooks in `experiments/notebooks/` sub-directory and access model Python modules\n",
    "sys.path.append(\"../..\")\n",
    "sys.path.append(\"../../..\")"
   ]
  },
  {
   "cell_type": "code",
   "execution_count": null,
   "id": "d869cc5a",
   "metadata": {},
   "outputs": [],
   "source": [
    "# Configure Pandas to raise for chained assignment, rather than warn, so that we can fix the issue!\n",
    "pd.options.mode.chained_assignment = 'raise'"
   ]
  },
  {
   "cell_type": "code",
   "execution_count": null,
   "id": "6fdfbee4",
   "metadata": {},
   "outputs": [],
   "source": [
    "# Set plotly as the default plotting backend for pandas\n",
    "pd.options.plotting.backend = \"plotly\""
   ]
  }
 ],
 "metadata": {
  "kernelspec": {
   "display_name": "Python 3 (ipykernel)",
   "language": "python",
   "name": "python3"
  },
  "language_info": {
   "codemirror_mode": {
    "name": "ipython",
    "version": 3
   },
   "file_extension": ".py",
   "mimetype": "text/x-python",
   "name": "python",
   "nbconvert_exporter": "python",
   "pygments_lexer": "ipython3",
   "version": "3.8.13"
  }
 },
 "nbformat": 4,
 "nbformat_minor": 5
}
